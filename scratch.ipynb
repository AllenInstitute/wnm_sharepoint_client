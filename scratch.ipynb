{
 "cells": [
  {
   "cell_type": "code",
   "execution_count": 1,
   "metadata": {},
   "outputs": [
    {
     "name": "stdout",
     "output_type": "stream",
     "text": [
      "https://graph.microsoft.com/v1.0/sites/alleninstitute.sharepoint.com,cadb9fe3-5c77-4c77-9a5e-90dfe24bb737,63f0bdc3-a8cd-49cb-9ca2-0815e77ce80d/drives/b!45_byndcd0yaXpDf4ku3N8O98GPNqMtJnKIIFed86A17Szxui2o3T7k963fGe_O3/root:/General/AIBS Completed SWC Files/MM_Test_Sharepoint_API:/children:/\n",
      "Refreshing token...\n"
     ]
    },
    {
     "data": {
      "text/plain": [
       "['dataset_fmost_698456-234302-cell_234302_markerID-2014-Axon-BM(1).json',\n",
       " 'dataset_fmost_698456-234302-cell_234302_markerID-2014-Axon-BM(1).swc',\n",
       " 'test.json',\n",
       " 'test_upload.csv',\n",
       " 'test_upload.swc',\n",
       " 'TestBook1.xlsx',\n",
       " 'testmem.json',\n",
       " 'TestSpreadsheet.xlsx']"
      ]
     },
     "execution_count": 1,
     "metadata": {},
     "output_type": "execute_result"
    }
   ],
   "source": [
    "from wnm_sharepoint_client.client import SharePointClient\n",
    "helper = SharePointClient()\n",
    "helper.list_items(\"AIBS Completed SWC Files/wnm_sharepoint_client_CICD\")"
   ]
  },
  {
   "cell_type": "code",
   "execution_count": null,
   "metadata": {},
   "outputs": [],
   "source": []
  },
  {
   "cell_type": "code",
   "execution_count": 3,
   "metadata": {},
   "outputs": [],
   "source": []
  },
  {
   "cell_type": "code",
   "execution_count": 8,
   "metadata": {},
   "outputs": [
    {
     "name": "stdout",
     "output_type": "stream",
     "text": [
      "Refreshing token...\n"
     ]
    },
    {
     "ename": "HTTPError",
     "evalue": "404 Client Error: Not Found for url: https://graph.microsoft.com/v1.0/sites/alleninstitute.sharepoint.com,cadb9fe3-5c77-4c77-9a5e-90dfe24bb737,63f0bdc3-a8cd-49cb-9ca2-0815e77ce80d/drives/b!45_byndcd0yaXpDf4ku3N8O98GPNqMtJnKIIFed86A17Szxui2o3T7k963fGe_O3/root:/General/AIBS%20Completed%20SWC%20Files/MM_Test_Sharepoint_APIchildren:/",
     "output_type": "error",
     "traceback": [
      "\u001b[1;31m---------------------------------------------------------------------------\u001b[0m",
      "\u001b[1;31mHTTPError\u001b[0m                                 Traceback (most recent call last)",
      "\u001b[1;32mprograms\\celltypes\\workgroups\\mousecelltypes\\Matt_Mallory\\GithubProjects\\wnm_sharepoint_client\\scratch.ipynb Cell 3\u001b[0m line \u001b[0;36m1\n\u001b[1;32m----> <a href='vscode-notebook-cell://allen/programs/celltypes/workgroups/mousecelltypes/Matt_Mallory/GithubProjects/wnm_sharepoint_client/scratch.ipynb#W2sZmlsZQ%3D%3D?line=0'>1</a>\u001b[0m helper\u001b[39m.\u001b[39mlist_items(\u001b[39m\"\u001b[39m\u001b[39mAIBS Completed SWC Files/MM_Test_Sharepoint_API\u001b[39m\u001b[39m\"\u001b[39m)\n",
      "File \u001b[1;32m\\\\allen\\programs\\celltypes\\workgroups\\mousecelltypes\\Matt_Mallory\\GithubProjects\\wnm_sharepoint_client\\wnm_sharepoint_client\\client.py:39\u001b[0m, in \u001b[0;36mSharePointClient.list_items\u001b[1;34m(self, folder_path)\u001b[0m\n\u001b[0;32m     37\u001b[0m url \u001b[39m=\u001b[39m \u001b[39mself\u001b[39m\u001b[39m.\u001b[39m_build_url(\u001b[39mf\u001b[39m\u001b[39m\"\u001b[39m\u001b[39mGeneral/\u001b[39m\u001b[39m{\u001b[39;00mfolder_path\u001b[39m}\u001b[39;00m\u001b[39mchildren\u001b[39m\u001b[39m\"\u001b[39m)\n\u001b[0;32m     38\u001b[0m response \u001b[39m=\u001b[39m requests\u001b[39m.\u001b[39mget(url, headers\u001b[39m=\u001b[39mtoken_manager\u001b[39m.\u001b[39mget_headers())\n\u001b[1;32m---> 39\u001b[0m response\u001b[39m.\u001b[39mraise_for_status()\n\u001b[0;32m     40\u001b[0m \u001b[39mreturn\u001b[39;00m [d[\u001b[39m'\u001b[39m\u001b[39mname\u001b[39m\u001b[39m'\u001b[39m] \u001b[39mfor\u001b[39;00m d \u001b[39min\u001b[39;00m response\u001b[39m.\u001b[39mjson()[\u001b[39m'\u001b[39m\u001b[39mvalue\u001b[39m\u001b[39m'\u001b[39m]]\n",
      "File \u001b[1;32mc:\\Users\\matt.mallory\\AppData\\Local\\Continuum\\anaconda3\\envs\\py311\\Lib\\site-packages\\requests\\models.py:1024\u001b[0m, in \u001b[0;36mResponse.raise_for_status\u001b[1;34m(self)\u001b[0m\n\u001b[0;32m   1019\u001b[0m     http_error_msg \u001b[39m=\u001b[39m (\n\u001b[0;32m   1020\u001b[0m         \u001b[39mf\u001b[39m\u001b[39m\"\u001b[39m\u001b[39m{\u001b[39;00m\u001b[39mself\u001b[39m\u001b[39m.\u001b[39mstatus_code\u001b[39m}\u001b[39;00m\u001b[39m Server Error: \u001b[39m\u001b[39m{\u001b[39;00mreason\u001b[39m}\u001b[39;00m\u001b[39m for url: \u001b[39m\u001b[39m{\u001b[39;00m\u001b[39mself\u001b[39m\u001b[39m.\u001b[39murl\u001b[39m}\u001b[39;00m\u001b[39m\"\u001b[39m\n\u001b[0;32m   1021\u001b[0m     )\n\u001b[0;32m   1023\u001b[0m \u001b[39mif\u001b[39;00m http_error_msg:\n\u001b[1;32m-> 1024\u001b[0m     \u001b[39mraise\u001b[39;00m HTTPError(http_error_msg, response\u001b[39m=\u001b[39m\u001b[39mself\u001b[39m)\n",
      "\u001b[1;31mHTTPError\u001b[0m: 404 Client Error: Not Found for url: https://graph.microsoft.com/v1.0/sites/alleninstitute.sharepoint.com,cadb9fe3-5c77-4c77-9a5e-90dfe24bb737,63f0bdc3-a8cd-49cb-9ca2-0815e77ce80d/drives/b!45_byndcd0yaXpDf4ku3N8O98GPNqMtJnKIIFed86A17Szxui2o3T7k963fGe_O3/root:/General/AIBS%20Completed%20SWC%20Files/MM_Test_Sharepoint_APIchildren:/"
     ]
    }
   ],
   "source": []
  }
 ],
 "metadata": {
  "kernelspec": {
   "display_name": "py311",
   "language": "python",
   "name": "python3"
  },
  "language_info": {
   "codemirror_mode": {
    "name": "ipython",
    "version": 3
   },
   "file_extension": ".py",
   "mimetype": "text/x-python",
   "name": "python",
   "nbconvert_exporter": "python",
   "pygments_lexer": "ipython3",
   "version": "3.11.11"
  }
 },
 "nbformat": 4,
 "nbformat_minor": 2
}
